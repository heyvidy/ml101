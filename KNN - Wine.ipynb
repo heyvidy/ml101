{
 "cells": [
  {
   "cell_type": "code",
   "execution_count": 67,
   "metadata": {
    "collapsed": true
   },
   "outputs": [],
   "source": [
    "import numpy as np\n",
    "import pandas as pd\n",
    "import matplotlib.pyplot as plt\n",
    "from sklearn.datasets import load_wine\n",
    "from sklearn.model_selection import train_test_split\n",
    "%matplotlib inline"
   ]
  },
  {
   "cell_type": "code",
   "execution_count": 68,
   "metadata": {
    "collapsed": true
   },
   "outputs": [],
   "source": [
    "# Calculate Distance between any two given points\n",
    "def euclid_distance(train_point, given_point):\n",
    "    distance = np.sum((train_point-given_point)**2)\n",
    "    return np.sqrt(distance)\n",
    "\n",
    "\n",
    "# Calculate distance from a given point to all other points\n",
    "# and keep track of the respective classes for those distances\n",
    "# and eventually return sorted list of distances\n",
    "def calc_distance_from_all(all_points, given_point, predictions):\n",
    "    all_distances = []\n",
    "    for i, each in enumerate(all_points):\n",
    "        distance = euclid_distance(each, given_point)\n",
    "        all_distances.append((distance,int(predictions[i])))\n",
    "    all_distances.sort(key=lambda tup: tup[0])\n",
    "    return all_distances\n",
    "\n",
    "\n",
    "\n",
    "# Get the \"n\" defined neighbours from a list of sorted distances\n",
    "def get_neighbours(distances, count):\n",
    "    return distances[:count]\n",
    "\n",
    "\n",
    "\n",
    "\n",
    "# Takes a given point and predicts the class based on all other points\n",
    "def predict(all_points, given_point, predictions):\n",
    "    distances = calc_distance_from_all(all_points,given_point,predictions)\n",
    "    neighbours = get_neighbours(distances, 4)\n",
    "    \n",
    "    op = [row[-1] for row in neighbours]\n",
    "    prediction = max(set(op), key=op.count)\n",
    "    return prediction\n",
    "\n",
    "\n",
    "\n",
    "# Get how accurate our system is based on a new set of test points\n",
    "# for which we already know the right answer to\n",
    "def accuracy(basex, basey, testx, testy):\n",
    "    correct = 0 \n",
    "    \n",
    "    for i in range(len(testx)):\n",
    "        p = predict(basex, testx[i], basey)\n",
    "        if p == testy[i]:\n",
    "            correct += 1\n",
    "            \n",
    "    return f\"Accuracy: {correct*100/len(testy)}%\""
   ]
  },
  {
   "cell_type": "markdown",
   "metadata": {},
   "source": [
    "### Loading the Data"
   ]
  },
  {
   "cell_type": "code",
   "execution_count": 69,
   "metadata": {
    "collapsed": true
   },
   "outputs": [],
   "source": [
    "wine = load_wine()\n",
    "X = pd.DataFrame(wine.data, columns=wine.feature_names)\n",
    "Y = pd.DataFrame(wine.target, columns=['target'])\n",
    "\n"
   ]
  },
  {
   "cell_type": "markdown",
   "metadata": {},
   "source": [
    "### Normalizing X \n",
    "Y is already only 3 distinct values"
   ]
  },
  {
   "cell_type": "code",
   "execution_count": 70,
   "metadata": {
    "collapsed": true
   },
   "outputs": [],
   "source": [
    "X = (X-X.min()) / (X.max()-X.min())"
   ]
  },
  {
   "cell_type": "markdown",
   "metadata": {},
   "source": [
    "### Splitting the data into Train and test\n",
    "This is not needed in KNN, it doesn't make sense. We're doing this to understand if we can predict for new values that dont already exist in the data"
   ]
  },
  {
   "cell_type": "code",
   "execution_count": 71,
   "metadata": {
    "collapsed": true
   },
   "outputs": [],
   "source": [
    "xtrain, xtest, ytrain, ytest = train_test_split(X,Y, test_size=0.3)"
   ]
  },
  {
   "cell_type": "code",
   "execution_count": 72,
   "metadata": {},
   "outputs": [
    {
     "data": {
      "text/plain": [
       "['alcohol',\n",
       " 'malic_acid',\n",
       " 'ash',\n",
       " 'alcalinity_of_ash',\n",
       " 'magnesium',\n",
       " 'total_phenols',\n",
       " 'flavanoids',\n",
       " 'nonflavanoid_phenols',\n",
       " 'proanthocyanins',\n",
       " 'color_intensity',\n",
       " 'hue',\n",
       " 'od280/od315_of_diluted_wines',\n",
       " 'proline']"
      ]
     },
     "execution_count": 72,
     "metadata": {},
     "output_type": "execute_result"
    }
   ],
   "source": [
    "wine.feature_names"
   ]
  },
  {
   "cell_type": "code",
   "execution_count": 73,
   "metadata": {},
   "outputs": [],
   "source": [
    "f1 = 'hue'\n",
    "f2 = 'proline'\n",
    "basex = np.array(xtrain[[f1, f2]])\n",
    "basey = np.array(ytrain)\n",
    "\n",
    "xtest = np.array(xtest[[f1, f2]])\n",
    "ytest = np.array(ytest)"
   ]
  },
  {
   "cell_type": "code",
   "execution_count": 76,
   "metadata": {},
   "outputs": [
    {
     "data": {
      "text/plain": [
       "<matplotlib.collections.PathCollection at 0x160da8c0b38>"
      ]
     },
     "execution_count": 76,
     "metadata": {},
     "output_type": "execute_result"
    },
    {
     "data": {
      "image/png": "[encoded data removed]",
      "text/plain": [
       "<matplotlib.figure.Figure at 0x160daa9bdd8>"
      ]
     },
     "metadata": {},
     "output_type": "display_data"
    }
   ],
   "source": [
    "x = pd.DataFrame(basex)\n",
    "y = basey\n",
    "\n",
    "plt.scatter(x.iloc[:,0], x.iloc[:,1], c=y, s=15)\n",
    "plt.scatter(0.25, 0.2, c='red', marker='x', s=100)"
   ]
  },
  {
   "cell_type": "code",
   "execution_count": 75,
   "metadata": {},
   "outputs": [
    {
     "name": "stdout",
     "output_type": "stream",
     "text": [
      "Accuracy: 83.33333333333333%\n"
     ]
    }
   ],
   "source": [
    "print(accuracy(basex,basey,xtest,ytest))"
   ]
  }
 ],
 "metadata": {
  "kernelspec": {
   "display_name": "Python 3",
   "language": "python",
   "name": "python3"
  },
  "language_info": {
   "codemirror_mode": {
    "name": "ipython",
    "version": 3
   },
   "file_extension": ".py",
   "mimetype": "text/x-python",
   "name": "python",
   "nbconvert_exporter": "python",
   "pygments_lexer": "ipython3",
   "version": "3.6.1"
  }
 },
 "nbformat": 4,
 "nbformat_minor": 2
}
